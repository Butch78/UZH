{
 "cells": [
  {
   "cell_type": "code",
   "execution_count": 1,
   "metadata": {},
   "outputs": [],
   "source": [
    "import numpy as np\n",
    "from scipy.stats import norm"
   ]
  },
  {
   "cell_type": "code",
   "execution_count": 11,
   "metadata": {},
   "outputs": [
    {
     "name": "stdout",
     "output_type": "stream",
     "text": [
      "(56.8291573548275, -0.28424686735914145, -0.8904646500082485)\n"
     ]
    }
   ],
   "source": [
    "\n",
    "S = 467\n",
    "K = 900\n",
    "T = 3\n",
    "sigma = 0.35\n",
    "r = 0.1\n",
    "\n",
    "# Black-Scholes formula\n",
    "def Black_Scholes(S, K, T, sigma, r):\n",
    "    d1 = (np.log(S/K) + (r + 0.5 * sigma ** 2) * T) / (sigma * np.sqrt(T))\n",
    "    d2 = d1 - sigma * np.sqrt(T)\n",
    "    return S * norm.cdf(d1) - K * np.exp(-r * T) * norm.cdf(d2), d1, d2\n",
    "\n",
    "print(Black_Scholes(S, K, T, sigma, r))"
   ]
  },
  {
   "cell_type": "code",
   "execution_count": 6,
   "metadata": {},
   "outputs": [
    {
     "name": "stdout",
     "output_type": "stream",
     "text": [
      "70.363962386748\n"
     ]
    }
   ],
   "source": [
    "\n",
    "S = 500\n",
    "K = 900\n",
    "T = 3\n",
    "sigma = 0.35\n",
    "r = 0.1\n",
    "\n",
    "# Black-Scholes formula\n",
    "def Black_Scholes(S, K, T, sigma, r):\n",
    "    d1 = (np.log(S/K) + (r + 0.5 * sigma ** 2) * T) / (sigma * np.sqrt(T))\n",
    "    d2 = d1 - sigma * np.sqrt(T)\n",
    "    return S * norm.cdf(d1) - K * np.exp(-r * T) * norm.cdf(d2)\n",
    "\n",
    "print(Black_Scholes(S, K, T, sigma, r))"
   ]
  }
 ],
 "metadata": {
  "interpreter": {
   "hash": "9de441e851c1868a23eb2fb3167f084c686ec9b560b735d2a41f091c53badd66"
  },
  "kernelspec": {
   "display_name": "Python 3.10.1 64-bit ('python-BDt5osy8-py3.10': poetry)",
   "language": "python",
   "name": "python3"
  },
  "language_info": {
   "codemirror_mode": {
    "name": "ipython",
    "version": 3
   },
   "file_extension": ".py",
   "mimetype": "text/x-python",
   "name": "python",
   "nbconvert_exporter": "python",
   "pygments_lexer": "ipython3",
   "version": "3.10.1"
  },
  "orig_nbformat": 4
 },
 "nbformat": 4,
 "nbformat_minor": 2
}
