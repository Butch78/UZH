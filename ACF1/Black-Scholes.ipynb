{
 "cells": [
  {
   "cell_type": "code",
   "execution_count": 1,
   "metadata": {},
   "outputs": [],
   "source": [
    "import numpy as np\n",
    "from scipy.stats import norm"
   ]
  },
  {
   "cell_type": "code",
   "execution_count": 68,
   "metadata": {},
   "outputs": [
    {
     "name": "stdout",
     "output_type": "stream",
     "text": [
      "-0.30745545837991767 -0.9136732410290247\n",
      "(55.09556898586945, 0.379248360604914, 0.18044428435503163)\n"
     ]
    }
   ],
   "source": [
    "\n",
    "\n",
    "\n",
    "# Black-Scholes formula\n",
    "def Black_Scholes(S, K, T, sigma, r):\n",
    "    d1 = (np.log(S/(K/(1+r) ** T)))/(sigma * np.sqrt(T)) + sigma * np.sqrt(T) / 2\n",
    "    d2 = d1 - sigma * np.sqrt(T)\n",
    "    print(d1, d2)\n",
    "    d1_normal = norm.cdf(d1)\n",
    "    d2_normal = norm.cdf(d2)\n",
    "    \n",
    "    return d1_normal * S - d2_normal * (K / (1 + r) ** T) , d1_normal, d2_normal\n",
    "\n",
    "S = 467\n",
    "K = 900\n",
    "T = 3\n",
    "sigma = 0.35\n",
    "r = 0.1\n",
    "\n",
    "print(Black_Scholes(S, K, T, sigma, r))"
   ]
  },
  {
   "cell_type": "code",
   "execution_count": 49,
   "metadata": {},
   "outputs": [
    {
     "name": "stdout",
     "output_type": "stream",
     "text": [
      "8.764220385880325 8.41781022436655\n",
      "8.764220385880325 8.41781022436655\n",
      "289.217620274513\n",
      "8.764220385880325 8.41781022436655\n",
      "8.764220385880325 8.41781022436655\n",
      "-54.53875501157089\n"
     ]
    }
   ],
   "source": [
    "#  Value of the European call option\n",
    "def European_Call(S, K, T, sigma, r):\n",
    "    return S * np.exp(-r * T) * norm.cdf(Black_Scholes(S, K, T, sigma, r)[1]) - K * np.exp(-r * T) * norm.cdf(Black_Scholes(S, K, T, sigma, r)[2])\n",
    "\n",
    "\n",
    "print(European_Call(S, K, T, sigma, r))\n",
    "\n",
    "#  Value of the European put option\n",
    "def European_Put(S, K, T, sigma, r):\n",
    "    return K * np.exp(-r * T) * norm.cdf(-Black_Scholes(S, K, T, sigma, r)[2]) - S * np.exp(-r * T) * norm.cdf(-Black_Scholes(S, K, T, sigma, r)[1])\n",
    "\n",
    "print(European_Put(S, K, T, sigma, r))"
   ]
  },
  {
   "cell_type": "code",
   "execution_count": 50,
   "metadata": {},
   "outputs": [
    {
     "name": "stdout",
     "output_type": "stream",
     "text": [
      "8.764220385880325 8.41781022436655\n",
      "8.764220385880325 8.41781022436655\n",
      "289.217620274513\n",
      "8.764220385880325 8.41781022436655\n",
      "8.764220385880325 8.41781022436655\n",
      "-54.53875501157089\n"
     ]
    }
   ],
   "source": [
    "#  Value of the American call option\n",
    "def American_Call(S, K, T, sigma, r):\n",
    "    return S * np.exp(-r * T) * norm.cdf(Black_Scholes(S, K, T, sigma, r)[1]) - K * np.exp(-r * T) * norm.cdf(Black_Scholes(S, K, T, sigma, r)[2])\n",
    "\n",
    "print(American_Call(S, K, T, sigma, r))\n",
    "\n",
    "def American_Put(S, K, T, sigma, r):\n",
    "    return K * np.exp(-r * T) * norm.cdf(-Black_Scholes(S, K, T, sigma, r)[2]) - S * np.exp(-r * T) * norm.cdf(-Black_Scholes(S, K, T, sigma, r)[1])\n",
    "\n",
    "print(American_Put(S, K, T, sigma, r))"
   ]
  },
  {
   "cell_type": "code",
   "execution_count": 69,
   "metadata": {},
   "outputs": [
    {
     "name": "stdout",
     "output_type": "stream",
     "text": [
      "⋋ =  0.5\n",
      "1.9907049399818395 1.5434913444818816\n",
      "W = ⋋ x C =  12.394342950602924\n",
      "1.9907049399818395 1.5434913444818816\n",
      "Value of Each Warrant:  12.394342950602924\n"
     ]
    }
   ],
   "source": [
    "n = 1\n",
    "m = 1\n",
    "V = 40\n",
    "X = 5\n",
    "K = 30\n",
    "R = 1\n",
    "t = 5\n",
    "sigma = 0.2\n",
    "r = 0.08\n",
    "\n",
    "# Warrant Dilution factor \n",
    "def get_warrant_dilution_factor(m, n, R):\n",
    "    return (m * R) / (n + (m * R))\n",
    "    \n",
    "print(\"⋋ = \", get_warrant_dilution_factor(m, n, R))\n",
    "\n",
    "#  Value of the European Warrant on non-divident paying stock\n",
    "def get_european_warrant_value(V, t, n, K, r, sigma):\n",
    "    S = V + X\n",
    "    return Black_Scholes(S, K, t, sigma, r)[0] * get_warrant_dilution_factor(n, n, R) \n",
    "\n",
    "\n",
    "print(\"W = ⋋ x C = \", get_european_warrant_value(V, t, n, K, r, sigma))\n",
    "\n",
    "#  Value per share of the European Warrant on non-divident paying stock\n",
    "def get_european_warrant_per_share_value(V, t, n, K, r, sigma):\n",
    "    return get_european_warrant_value(V, t, n, K, r, sigma) / n\n",
    "\n",
    "\n",
    "print(\"Value of Each Warrant: \", get_european_warrant_per_share_value(V, t, n, K, r, sigma))\n",
    "\n",
    "\n"
   ]
  },
  {
   "cell_type": "code",
   "execution_count": null,
   "metadata": {},
   "outputs": [],
   "source": []
  }
 ],
 "metadata": {
  "interpreter": {
   "hash": "9de441e851c1868a23eb2fb3167f084c686ec9b560b735d2a41f091c53badd66"
  },
  "kernelspec": {
   "display_name": "Python 3.10.1 64-bit ('python-BDt5osy8-py3.10': poetry)",
   "language": "python",
   "name": "python3"
  },
  "language_info": {
   "codemirror_mode": {
    "name": "ipython",
    "version": 3
   },
   "file_extension": ".py",
   "mimetype": "text/x-python",
   "name": "python",
   "nbconvert_exporter": "python",
   "pygments_lexer": "ipython3",
   "version": "3.10.1"
  },
  "orig_nbformat": 4
 },
 "nbformat": 4,
 "nbformat_minor": 2
}
